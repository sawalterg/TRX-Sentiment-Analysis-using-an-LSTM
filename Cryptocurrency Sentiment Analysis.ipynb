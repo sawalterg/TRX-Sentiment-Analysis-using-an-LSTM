{
 "cells": [
  {
   "cell_type": "code",
   "execution_count": null,
   "metadata": {
    "collapsed": true
   },
   "outputs": [],
   "source": [
    "import pandas as pd\n",
    "import numpy as np\n",
    "import matplotlib.pyplot as plt\n",
    "import nltk\n",
    "from nltk.corpus import stopwords\n",
    "from nltk.tokenize import TweetTokenizer\n",
    "from nltk.stem.wordnet import WordNetLemmatizerLoad\n",
    "from gensim.models import Word2Vec"
   ]
  },
  {
   "cell_type": "markdown",
   "metadata": {},
   "source": [
    "#  Part 1 - Assemble the Historical Prices of BTC"
   ]
  },
  {
   "cell_type": "code",
   "execution_count": null,
   "metadata": {
    "collapsed": true
   },
   "outputs": [],
   "source": [
    "import requests\n",
    "from quandl_creds import * \n",
    "\n",
    "def get_btc_price():\n",
    "    \n",
    "    url = 'http://www.quandl.com/api/v3/datasets/BCHARTS/BITSTAMPUSD/data.json?start_date=2014-01-01&end_date=2018-12-1&apikey=%s' % quand_api_key\n",
    "    r = requests.get(url)\n",
    "\n",
    "    json_data = r.json()\n",
    "    \n",
    "    btc_df = pd.DataFrame(json_data['dataset_data']['data'], columns = json_data['dataset_data']['column_names'])\n",
    "    \n",
    "    return btc_df"
   ]
  },
  {
   "cell_type": "markdown",
   "metadata": {},
   "source": [
    "# Part 2 - Gather Twitter Sentiment Data"
   ]
  },
  {
   "cell_type": "code",
   "execution_count": null,
   "metadata": {
    "collapsed": true
   },
   "outputs": [],
   "source": [
    "import tweepy\n",
    "import textblob\n",
    "import datetime\n",
    "import time\n",
    "import csv\n",
    "\n",
    "# Import OAuth authentication credential from python file \n",
    "from twitter_creds import *\n",
    "\n",
    "def get_tweets():\n",
    "# Pass OAuth details to tweepy's OAuth handler\n",
    "    try:\n",
    "        \n",
    "        auth = tweepy.OAuthHandler(consumer_key, consumer_secret)\n",
    "        auth.set_access_token(access_token, access_token_secret)\n",
    "        api = tweepy.API(auth)\n",
    "\n",
    "    except:\n",
    "        print(\"Invalid Credentials\") # return value program is unable to connect\n",
    "\n",
    "    csv = open('twitter_data.csv', 'a', encoding='utf-8')\n",
    "    sentiment_raw = open('twitter_data_raw.txt', 'a', encoding = 'utf-8')\n",
    "    \n",
    "    while True:\n",
    "    \n",
    "        btc_tweets = api.search(q=['bitcoin', 'btc'], count = 100)\n",
    "\n",
    "        polarity = []\n",
    "        \n",
    "        for tweet in btc_tweets:\n",
    "            sentiment_raw.write(tweet.text + '\\n')\n",
    "            pol = textblob.TextBlob(tweet.text)\n",
    "            polarity.append(pol.sentiment.polarity)\n",
    "            \n",
    "        average_sent = np.mean(polarity)\n",
    "        \n",
    "        csv.write(str(average_sent))\n",
    "        csv.write(','+datetime.datetime.now().strftime(\"%y-%m-%d-%H-%M\"))\n",
    "        csv.write('\\n')\n",
    "        csv.flush()\n",
    "        time.sleep(60)\n",
    "        \n",
    "btc_df = get_btc_price()\n",
    "get_tweets()\n"
   ]
  },
  {
   "cell_type": "markdown",
   "metadata": {},
   "source": [
    "# Part 3 - Exploratory Data Analysis"
   ]
  },
  {
   "cell_type": "code",
   "execution_count": null,
   "metadata": {
    "collapsed": true
   },
   "outputs": [],
   "source": [
    "# Start by looking at the price of btc\n",
    "\n",
    "plt.style.use('ggplot')\n",
    "\n",
    "_ = plt.subplot(2,2,1)\n",
    "\n",
    "btc_df.plot(btc_df.Date, btc_df.Open)\n",
    "_ = plt.xlabel(\"Date\")\n",
    "_ = plt.ylabel(\"Opening Price\")\n",
    "_ = plt.title(\"Opening Price Chart\")\n",
    "\n",
    "btc_df.plot(btc_df.Date, btc_df.Open)\n",
    "_ = plt.xlabel(\"Date\")\n",
    "_ = plt.ylabel(\"Volume\")\n",
    "_ = plt.title(\"Volume\")\n",
    "\n",
    "# Summary Stats\n",
    "\n",
    "btc_df.describe()\n",
    "\n",
    "print(\"Opening Maximum: \" + str(max(btc_df.Open)))\n",
    "print(\"Opening Minimum: \" + str(min(btc_df.Open)))"
   ]
  },
  {
   "cell_type": "code",
   "execution_count": null,
   "metadata": {
    "collapsed": true
   },
   "outputs": [],
   "source": [
    "# Spot check the twitter data\n",
    "\n",
    "sent_df = pd.read_csv('twitter_data.csv', header = None )\n",
    "\n",
    "raw_sent = pd.read_csv('twitter_data_raw.txt', header = None)\n",
    "\n",
    "sent_df.sentiment = raw_sent\n",
    "\n",
    "print(sent_df.iloc[:,1].value_counts[25])"
   ]
  }
 ],
 "metadata": {
  "kernelspec": {
   "display_name": "Python 3",
   "language": "python",
   "name": "python3"
  },
  "language_info": {
   "codemirror_mode": {
    "name": "ipython",
    "version": 3
   },
   "file_extension": ".py",
   "mimetype": "text/x-python",
   "name": "python",
   "nbconvert_exporter": "python",
   "pygments_lexer": "ipython3",
   "version": "3.6.6"
  }
 },
 "nbformat": 4,
 "nbformat_minor": 2
}
